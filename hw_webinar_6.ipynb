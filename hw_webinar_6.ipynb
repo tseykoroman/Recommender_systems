{
 "cells": [
  {
   "cell_type": "markdown",
   "metadata": {},
   "source": [
    "# Домашнее задание\n"
   ]
  },
  {
   "cell_type": "code",
   "execution_count": 1,
   "metadata": {},
   "outputs": [],
   "source": [
    "import pandas as pd\n",
    "import numpy as np\n",
    "import matplotlib.pyplot as plt\n",
    "%matplotlib inline\n",
    "\n",
    "# Для работы с матрицами\n",
    "from scipy.sparse import csr_matrix\n",
    "\n",
    "# Матричная факторизация\n",
    "from implicit import als\n",
    "\n",
    "# Модель второго уровня\n",
    "from lightgbm import LGBMClassifier\n",
    "\n",
    "import os, sys\n",
    "module_path = os.path.abspath(os.path.join(os.pardir))\n",
    "if module_path not in sys.path:\n",
    "    sys.path.append(module_path)\n",
    "\n",
    "# Написанные нами функции\n",
    "from metrics import precision_at_k, recall_at_k\n",
    "from utils import prefilter_items\n",
    "from recommenders import MainRecommender"
   ]
  },
  {
   "cell_type": "code",
   "execution_count": 2,
   "metadata": {},
   "outputs": [],
   "source": [
    "data = pd.read_csv('retail_train.csv')\n",
    "item_features = pd.read_csv('product.csv')\n",
    "user_features = pd.read_csv('hh_demographic.csv')"
   ]
  },
  {
   "cell_type": "code",
   "execution_count": 3,
   "metadata": {},
   "outputs": [],
   "source": [
    "data = data[~data['user_id'].isin(['296', '1813', '1984', '2498'])]"
   ]
  },
  {
   "cell_type": "code",
   "execution_count": 4,
   "metadata": {},
   "outputs": [],
   "source": [
    "ITEM_COL = 'item_id'\n",
    "USER_COL = 'user_id'"
   ]
  },
  {
   "cell_type": "code",
   "execution_count": 5,
   "metadata": {},
   "outputs": [],
   "source": [
    "item_features.columns = [col.lower() for col in item_features.columns]\n",
    "user_features.columns = [col.lower() for col in user_features.columns]\n",
    "\n",
    "item_features.rename(columns={'product_id': ITEM_COL}, inplace=True)\n",
    "user_features.rename(columns={'household_key': USER_COL }, inplace=True)"
   ]
  },
  {
   "cell_type": "code",
   "execution_count": 6,
   "metadata": {},
   "outputs": [],
   "source": [
    "VAL_MATCHER_WEEKS = 6\n",
    "VAL_RANKER_WEEKS = 3"
   ]
  },
  {
   "cell_type": "code",
   "execution_count": 7,
   "metadata": {},
   "outputs": [],
   "source": [
    "# берем данные для тренировки matching модели\n",
    "data_train_matcher = data[data['week_no'] < data['week_no'].max() - (VAL_MATCHER_WEEKS + VAL_RANKER_WEEKS)]\n",
    "\n",
    "# берем данные для валидации matching модели\n",
    "data_val_matcher = data[(data['week_no'] >= data['week_no'].max() - (VAL_MATCHER_WEEKS + VAL_RANKER_WEEKS)) &\n",
    "                      (data['week_no'] < data['week_no'].max() - (VAL_RANKER_WEEKS))]\n",
    "\n",
    "\n",
    "# берем данные для тренировки ranking модели\n",
    "data_train_ranker = data_val_matcher.copy()  # Для наглядности. Далее мы добавим изменения, и они будут отличаться\n",
    "\n",
    "# берем данные для теста ranking, matching модели\n",
    "data_val_ranker = data[data['week_no'] >= data['week_no'].max() - VAL_RANKER_WEEKS]"
   ]
  },
  {
   "cell_type": "code",
   "execution_count": 8,
   "metadata": {},
   "outputs": [],
   "source": [
    "def print_stats_data(df_data, name_df):\n",
    "    print(name_df)\n",
    "    print(f\"Shape: {df_data.shape} Users: {df_data[USER_COL].nunique()} Items: {df_data[ITEM_COL].nunique()}\")"
   ]
  },
  {
   "cell_type": "code",
   "execution_count": 9,
   "metadata": {},
   "outputs": [
    {
     "name": "stdout",
     "output_type": "stream",
     "text": [
      "train_matcher\n",
      "Shape: (2108779, 12) Users: 2498 Items: 83685\n",
      "val_matcher\n",
      "Shape: (169711, 12) Users: 2154 Items: 27649\n",
      "train_ranker\n",
      "Shape: (169711, 12) Users: 2154 Items: 27649\n",
      "val_ranker\n",
      "Shape: (118314, 12) Users: 2042 Items: 24329\n"
     ]
    }
   ],
   "source": [
    "print_stats_data(data_train_matcher,'train_matcher')\n",
    "print_stats_data(data_val_matcher,'val_matcher')\n",
    "print_stats_data(data_train_ranker,'train_ranker')\n",
    "print_stats_data(data_val_ranker,'val_ranker')"
   ]
  },
  {
   "cell_type": "code",
   "execution_count": 10,
   "metadata": {},
   "outputs": [
    {
     "data": {
      "text/html": [
       "<div>\n",
       "<style scoped>\n",
       "    .dataframe tbody tr th:only-of-type {\n",
       "        vertical-align: middle;\n",
       "    }\n",
       "\n",
       "    .dataframe tbody tr th {\n",
       "        vertical-align: top;\n",
       "    }\n",
       "\n",
       "    .dataframe thead th {\n",
       "        text-align: right;\n",
       "    }\n",
       "</style>\n",
       "<table border=\"1\" class=\"dataframe\">\n",
       "  <thead>\n",
       "    <tr style=\"text-align: right;\">\n",
       "      <th></th>\n",
       "      <th>user_id</th>\n",
       "      <th>basket_id</th>\n",
       "      <th>day</th>\n",
       "      <th>item_id</th>\n",
       "      <th>quantity</th>\n",
       "      <th>sales_value</th>\n",
       "      <th>store_id</th>\n",
       "      <th>retail_disc</th>\n",
       "      <th>trans_time</th>\n",
       "      <th>week_no</th>\n",
       "      <th>coupon_disc</th>\n",
       "      <th>coupon_match_disc</th>\n",
       "    </tr>\n",
       "  </thead>\n",
       "  <tbody>\n",
       "    <tr>\n",
       "      <th>0</th>\n",
       "      <td>2375</td>\n",
       "      <td>26984851472</td>\n",
       "      <td>1</td>\n",
       "      <td>1004906</td>\n",
       "      <td>1</td>\n",
       "      <td>1.39</td>\n",
       "      <td>364</td>\n",
       "      <td>-0.6</td>\n",
       "      <td>1631</td>\n",
       "      <td>1</td>\n",
       "      <td>0.0</td>\n",
       "      <td>0.0</td>\n",
       "    </tr>\n",
       "    <tr>\n",
       "      <th>1</th>\n",
       "      <td>2375</td>\n",
       "      <td>26984851472</td>\n",
       "      <td>1</td>\n",
       "      <td>1033142</td>\n",
       "      <td>1</td>\n",
       "      <td>0.82</td>\n",
       "      <td>364</td>\n",
       "      <td>0.0</td>\n",
       "      <td>1631</td>\n",
       "      <td>1</td>\n",
       "      <td>0.0</td>\n",
       "      <td>0.0</td>\n",
       "    </tr>\n",
       "  </tbody>\n",
       "</table>\n",
       "</div>"
      ],
      "text/plain": [
       "   user_id    basket_id  day  item_id  quantity  sales_value  store_id  \\\n",
       "0     2375  26984851472    1  1004906         1         1.39       364   \n",
       "1     2375  26984851472    1  1033142         1         0.82       364   \n",
       "\n",
       "   retail_disc  trans_time  week_no  coupon_disc  coupon_match_disc  \n",
       "0         -0.6        1631        1          0.0                0.0  \n",
       "1          0.0        1631        1          0.0                0.0  "
      ]
     },
     "execution_count": 10,
     "metadata": {},
     "output_type": "execute_result"
    }
   ],
   "source": [
    "data_train_matcher.head(2)"
   ]
  },
  {
   "cell_type": "code",
   "execution_count": 12,
   "metadata": {},
   "outputs": [
    {
     "name": "stdout",
     "output_type": "stream",
     "text": [
      "Prefilter success: Decreased number of items from 83685 to 5001\n"
     ]
    }
   ],
   "source": [
    "data_train_matcher = prefilter_items(data_train_matcher, item_features=item_features, take_n_popular=5000)"
   ]
  },
  {
   "cell_type": "code",
   "execution_count": 13,
   "metadata": {},
   "outputs": [
    {
     "data": {
      "application/vnd.jupyter.widget-view+json": {
       "model_id": "784ad62c20e2464ebd3b7abe9228b5b6",
       "version_major": 2,
       "version_minor": 0
      },
      "text/plain": [
       "  0%|          | 0/15 [00:00<?, ?it/s]"
      ]
     },
     "metadata": {},
     "output_type": "display_data"
    },
    {
     "data": {
      "application/vnd.jupyter.widget-view+json": {
       "model_id": "4b28e4aeaa9845269af8b41f44dacdb6",
       "version_major": 2,
       "version_minor": 0
      },
      "text/plain": [
       "  0%|          | 0/2495 [00:00<?, ?it/s]"
      ]
     },
     "metadata": {},
     "output_type": "display_data"
    },
    {
     "name": "stdout",
     "output_type": "stream",
     "text": [
      "Wall time: 5.89 s\n"
     ]
    }
   ],
   "source": [
    "%%time\n",
    "\n",
    "recommender = MainRecommender(data_train_matcher)"
   ]
  },
  {
   "cell_type": "code",
   "execution_count": 12,
   "metadata": {},
   "outputs": [
    {
     "data": {
      "text/html": [
       "<div>\n",
       "<style scoped>\n",
       "    .dataframe tbody tr th:only-of-type {\n",
       "        vertical-align: middle;\n",
       "    }\n",
       "\n",
       "    .dataframe tbody tr th {\n",
       "        vertical-align: top;\n",
       "    }\n",
       "\n",
       "    .dataframe thead th {\n",
       "        text-align: right;\n",
       "    }\n",
       "</style>\n",
       "<table border=\"1\" class=\"dataframe\">\n",
       "  <thead>\n",
       "    <tr style=\"text-align: right;\">\n",
       "      <th></th>\n",
       "      <th>0</th>\n",
       "    </tr>\n",
       "  </thead>\n",
       "  <tbody>\n",
       "    <tr>\n",
       "      <th>get_als_recommendations</th>\n",
       "      <td>[899624, 1044078, 1106523, 844179, 871756]</td>\n",
       "    </tr>\n",
       "    <tr>\n",
       "      <th>get_own_recommendations</th>\n",
       "      <td>[948640, 918046, 847962, 907099, 873980]</td>\n",
       "    </tr>\n",
       "    <tr>\n",
       "      <th>get_similar_items_morecommendation</th>\n",
       "      <td>[1046545, 1044078, 999270, 15778319, 1078652]</td>\n",
       "    </tr>\n",
       "    <tr>\n",
       "      <th>get_similar_users_recommendation</th>\n",
       "      <td>[820612, 10457044, 1101502, 5574377, 915064]</td>\n",
       "    </tr>\n",
       "  </tbody>\n",
       "</table>\n",
       "</div>"
      ],
      "text/plain": [
       "                                                                                0\n",
       "get_als_recommendations                [899624, 1044078, 1106523, 844179, 871756]\n",
       "get_own_recommendations                  [948640, 918046, 847962, 907099, 873980]\n",
       "get_similar_items_morecommendation  [1046545, 1044078, 999270, 15778319, 1078652]\n",
       "get_similar_users_recommendation     [820612, 10457044, 1101502, 5574377, 915064]"
      ]
     },
     "execution_count": 12,
     "metadata": {},
     "output_type": "execute_result"
    }
   ],
   "source": [
    "user = 2375\n",
    "pd.DataFrame({\n",
    "    'get_als_recommendations': [recommender.get_als_recommendations(user, N=5)],\n",
    "    'get_own_recommendations': [recommender.get_own_recommendations(user, N=5)],\n",
    "    'get_similar_items_morecommendation': [recommender.get_similar_items_recommendation(user, N=5)],\n",
    "    'get_similar_users_recommendation': [recommender.get_similar_users_recommendation(user, N=5)]\n",
    "}).T"
   ]
  },
  {
   "cell_type": "markdown",
   "metadata": {},
   "source": [
    "### Задание 1\n",
    "\n",
    "A) Попробуйте различные варианты генерации кандидатов. Какие из них дают наибольший recall@k ?\n",
    "- Пока пробуем отобрать 50 кандидатов (k=50)\n",
    "- Качество измеряем на data_val_matcher: следующие 6 недель после трейна\n",
    "\n",
    "Дают ли own recommendtions + top-popular лучший recall?  "
   ]
  },
  {
   "cell_type": "code",
   "execution_count": 13,
   "metadata": {},
   "outputs": [
    {
     "data": {
      "text/html": [
       "<div>\n",
       "<style scoped>\n",
       "    .dataframe tbody tr th:only-of-type {\n",
       "        vertical-align: middle;\n",
       "    }\n",
       "\n",
       "    .dataframe tbody tr th {\n",
       "        vertical-align: top;\n",
       "    }\n",
       "\n",
       "    .dataframe thead th {\n",
       "        text-align: right;\n",
       "    }\n",
       "</style>\n",
       "<table border=\"1\" class=\"dataframe\">\n",
       "  <thead>\n",
       "    <tr style=\"text-align: right;\">\n",
       "      <th></th>\n",
       "      <th>user_id</th>\n",
       "      <th>actual</th>\n",
       "    </tr>\n",
       "  </thead>\n",
       "  <tbody>\n",
       "    <tr>\n",
       "      <th>0</th>\n",
       "      <td>1</td>\n",
       "      <td>[853529, 865456, 867607, 872137, 874905, 87524...</td>\n",
       "    </tr>\n",
       "    <tr>\n",
       "      <th>1</th>\n",
       "      <td>2</td>\n",
       "      <td>[15830248, 838136, 839656, 861272, 866211, 870...</td>\n",
       "    </tr>\n",
       "  </tbody>\n",
       "</table>\n",
       "</div>"
      ],
      "text/plain": [
       "   user_id                                             actual\n",
       "0        1  [853529, 865456, 867607, 872137, 874905, 87524...\n",
       "1        2  [15830248, 838136, 839656, 861272, 866211, 870..."
      ]
     },
     "execution_count": 13,
     "metadata": {},
     "output_type": "execute_result"
    }
   ],
   "source": [
    "result_val_matcher = result_val_matcher.groupby('user_id')['item_id'].unique().reset_index()\n",
    "result_val_matcher.columns=['user_id', 'actual']\n",
    "result_val_matcher.head(2)"
   ]
  },
  {
   "cell_type": "code",
   "execution_count": 14,
   "metadata": {},
   "outputs": [
    {
     "data": {
      "text/html": [
       "<div>\n",
       "<style scoped>\n",
       "    .dataframe tbody tr th:only-of-type {\n",
       "        vertical-align: middle;\n",
       "    }\n",
       "\n",
       "    .dataframe tbody tr th {\n",
       "        vertical-align: top;\n",
       "    }\n",
       "\n",
       "    .dataframe thead th {\n",
       "        text-align: right;\n",
       "    }\n",
       "</style>\n",
       "<table border=\"1\" class=\"dataframe\">\n",
       "  <thead>\n",
       "    <tr style=\"text-align: right;\">\n",
       "      <th></th>\n",
       "      <th>2041</th>\n",
       "    </tr>\n",
       "  </thead>\n",
       "  <tbody>\n",
       "    <tr>\n",
       "      <th>user_id</th>\n",
       "      <td>2375</td>\n",
       "    </tr>\n",
       "    <tr>\n",
       "      <th>actual</th>\n",
       "      <td>[835300, 848029, 862714, 896613, 923746, 93246...</td>\n",
       "    </tr>\n",
       "  </tbody>\n",
       "</table>\n",
       "</div>"
      ],
      "text/plain": [
       "                                                      2041\n",
       "user_id                                               2375\n",
       "actual   [835300, 848029, 862714, 896613, 923746, 93246..."
      ]
     },
     "execution_count": 14,
     "metadata": {},
     "output_type": "execute_result"
    }
   ],
   "source": [
    "result_val_matcher[result_val_matcher.user_id == 2375].T"
   ]
  },
  {
   "cell_type": "code",
   "execution_count": 15,
   "metadata": {},
   "outputs": [
    {
     "name": "stdout",
     "output_type": "stream",
     "text": [
      "Wall time: 39.3 s\n"
     ]
    }
   ],
   "source": [
    "%%time\n",
    "result_val_matcher['als_rec-s'] = result_val_matcher['user_id'].apply(lambda x: recommender.get_als_recommendations(user=x, N=50))"
   ]
  },
  {
   "cell_type": "code",
   "execution_count": 16,
   "metadata": {},
   "outputs": [
    {
     "name": "stdout",
     "output_type": "stream",
     "text": [
      "Wall time: 17.6 s\n"
     ]
    }
   ],
   "source": [
    "%%time\n",
    "result_val_matcher['own_rec-s'] = result_val_matcher['user_id'].apply(lambda x: recommender.get_own_recommendations(user=x, N=50))"
   ]
  },
  {
   "cell_type": "code",
   "execution_count": 17,
   "metadata": {},
   "outputs": [
    {
     "name": "stdout",
     "output_type": "stream",
     "text": [
      "Wall time: 22.7 s\n"
     ]
    }
   ],
   "source": [
    "%%time\n",
    "result_val_matcher['similar_items_rec-s'] = result_val_matcher['user_id'].apply(lambda x: recommender.get_similar_items_recommendation(user=x, N=50))"
   ]
  },
  {
   "cell_type": "code",
   "execution_count": 18,
   "metadata": {},
   "outputs": [],
   "source": [
    "def popularity_recommendation(data, n=5):\n",
    "    popular = data.groupby(by='item_id')['sales_value'].sum().reset_index()\n",
    "    popular.sort_values(by='sales_value', ascending=False, inplace=True)\n",
    "\n",
    "    recs = popular.head(n).item_id\n",
    "\n",
    "    return recs.tolist()"
   ]
  },
  {
   "cell_type": "code",
   "execution_count": 19,
   "metadata": {},
   "outputs": [
    {
     "name": "stdout",
     "output_type": "stream",
     "text": [
      "Wall time: 1min 50s\n"
     ]
    }
   ],
   "source": [
    "%%time\n",
    "result_val_matcher['top-popular'] = result_val_matcher['user_id'].apply(lambda x: popularity_recommendation(data_train_lvl_1, n=50))"
   ]
  },
  {
   "cell_type": "code",
   "execution_count": 20,
   "metadata": {},
   "outputs": [],
   "source": [
    "result_val_matcher['own+top'] = result_val_matcher['own_rec-s'] + result_val_matcher['top-popular']"
   ]
  },
  {
   "cell_type": "code",
   "execution_count": 21,
   "metadata": {},
   "outputs": [
    {
     "data": {
      "text/html": [
       "<div>\n",
       "<style scoped>\n",
       "    .dataframe tbody tr th:only-of-type {\n",
       "        vertical-align: middle;\n",
       "    }\n",
       "\n",
       "    .dataframe tbody tr th {\n",
       "        vertical-align: top;\n",
       "    }\n",
       "\n",
       "    .dataframe thead th {\n",
       "        text-align: right;\n",
       "    }\n",
       "</style>\n",
       "<table border=\"1\" class=\"dataframe\">\n",
       "  <thead>\n",
       "    <tr style=\"text-align: right;\">\n",
       "      <th></th>\n",
       "      <th>2041</th>\n",
       "    </tr>\n",
       "  </thead>\n",
       "  <tbody>\n",
       "    <tr>\n",
       "      <th>user_id</th>\n",
       "      <td>2375</td>\n",
       "    </tr>\n",
       "    <tr>\n",
       "      <th>actual</th>\n",
       "      <td>[835300, 848029, 862714, 896613, 923746, 93246...</td>\n",
       "    </tr>\n",
       "    <tr>\n",
       "      <th>als_rec-s</th>\n",
       "      <td>[899624, 1044078, 1106523, 844179, 871756, 883...</td>\n",
       "    </tr>\n",
       "    <tr>\n",
       "      <th>own_rec-s</th>\n",
       "      <td>[948640, 918046, 847962, 907099, 873980, 88469...</td>\n",
       "    </tr>\n",
       "    <tr>\n",
       "      <th>similar_items_rec-s</th>\n",
       "      <td>[1046545, 1044078, 999270, 15778319, 1078652, ...</td>\n",
       "    </tr>\n",
       "    <tr>\n",
       "      <th>top-popular</th>\n",
       "      <td>[999999, 1029743, 916122, 5569230, 1106523, 84...</td>\n",
       "    </tr>\n",
       "    <tr>\n",
       "      <th>own+top</th>\n",
       "      <td>[948640, 918046, 847962, 907099, 873980, 88469...</td>\n",
       "    </tr>\n",
       "  </tbody>\n",
       "</table>\n",
       "</div>"
      ],
      "text/plain": [
       "                                                                  2041\n",
       "user_id                                                           2375\n",
       "actual               [835300, 848029, 862714, 896613, 923746, 93246...\n",
       "als_rec-s            [899624, 1044078, 1106523, 844179, 871756, 883...\n",
       "own_rec-s            [948640, 918046, 847962, 907099, 873980, 88469...\n",
       "similar_items_rec-s  [1046545, 1044078, 999270, 15778319, 1078652, ...\n",
       "top-popular          [999999, 1029743, 916122, 5569230, 1106523, 84...\n",
       "own+top              [948640, 918046, 847962, 907099, 873980, 88469..."
      ]
     },
     "execution_count": 21,
     "metadata": {},
     "output_type": "execute_result"
    }
   ],
   "source": [
    "result_val_matcher[result_val_matcher.user_id == 2375].T"
   ]
  },
  {
   "cell_type": "code",
   "execution_count": 22,
   "metadata": {},
   "outputs": [],
   "source": [
    "def data_val_matcher(result_df):\n",
    "    import pandas as pd\n",
    "    from metrics import precision_at_k, recall_at_k\n",
    "    df = pd.DataFrame(\n",
    "        [\n",
    "            (model_,\n",
    "             round(result_df.apply(lambda row: precision_at_k(recommended_list=row[str(model_)], bought_list=row['actual']), axis=1).mean(), 5),\n",
    "             round(result_df.apply(lambda row: recall_at_k(recommended_list=row[str(model_)], bought_list=row['actual']), axis=1).mean(), 5),\n",
    "             ) for model_ in list(result_df)[2:]\n",
    "        ], columns=['model', 'precision_at_k', 'recall_at_k']\n",
    "    ).sort_values(by='precision_at_k', ascending=False)\n",
    "\n",
    "    return df"
   ]
  },
  {
   "cell_type": "code",
   "execution_count": 23,
   "metadata": {},
   "outputs": [
    {
     "data": {
      "text/html": [
       "<div>\n",
       "<style scoped>\n",
       "    .dataframe tbody tr th:only-of-type {\n",
       "        vertical-align: middle;\n",
       "    }\n",
       "\n",
       "    .dataframe tbody tr th {\n",
       "        vertical-align: top;\n",
       "    }\n",
       "\n",
       "    .dataframe thead th {\n",
       "        text-align: right;\n",
       "    }\n",
       "</style>\n",
       "<table border=\"1\" class=\"dataframe\">\n",
       "  <thead>\n",
       "    <tr style=\"text-align: right;\">\n",
       "      <th></th>\n",
       "      <th>model</th>\n",
       "      <th>precision_at_k</th>\n",
       "      <th>recall_at_k</th>\n",
       "    </tr>\n",
       "  </thead>\n",
       "  <tbody>\n",
       "    <tr>\n",
       "      <th>1</th>\n",
       "      <td>own_rec-s</td>\n",
       "      <td>0.17721</td>\n",
       "      <td>0.01829</td>\n",
       "    </tr>\n",
       "    <tr>\n",
       "      <th>4</th>\n",
       "      <td>own+top</td>\n",
       "      <td>0.17721</td>\n",
       "      <td>0.01829</td>\n",
       "    </tr>\n",
       "    <tr>\n",
       "      <th>0</th>\n",
       "      <td>als_rec-s</td>\n",
       "      <td>0.11628</td>\n",
       "      <td>0.01276</td>\n",
       "    </tr>\n",
       "    <tr>\n",
       "      <th>3</th>\n",
       "      <td>top-popular</td>\n",
       "      <td>0.11284</td>\n",
       "      <td>0.01363</td>\n",
       "    </tr>\n",
       "    <tr>\n",
       "      <th>2</th>\n",
       "      <td>similar_items_rec-s</td>\n",
       "      <td>0.06074</td>\n",
       "      <td>0.00593</td>\n",
       "    </tr>\n",
       "  </tbody>\n",
       "</table>\n",
       "</div>"
      ],
      "text/plain": [
       "                 model  precision_at_k  recall_at_k\n",
       "1            own_rec-s         0.17721      0.01829\n",
       "4              own+top         0.17721      0.01829\n",
       "0            als_rec-s         0.11628      0.01276\n",
       "3          top-popular         0.11284      0.01363\n",
       "2  similar_items_rec-s         0.06074      0.00593"
      ]
     },
     "execution_count": 23,
     "metadata": {},
     "output_type": "execute_result"
    }
   ],
   "source": [
    "data_val_matcher(result_df=result_val_matcher)"
   ]
  },
  {
   "cell_type": "markdown",
   "metadata": {},
   "source": [
    "**Задание 2.**\n",
    "\n",
    "Обучите модель 2-ого уровня, при этом:\n",
    "\n",
    "- Добавьте минимум по 2 фичи для юзера, товара и пары юзер-товар\n",
    "\n",
    "- Измерьте отдельно precision@5 модели 1-ого уровня и двухуровневой модели на data_val_ranker\n",
    "\n",
    "- Вырос ли precision@5 при использовании двухуровневой модели?"
   ]
  },
  {
   "cell_type": "code",
   "execution_count": 32,
   "metadata": {},
   "outputs": [],
   "source": [
    "users_val_ranker = pd.DataFrame(data_val_ranker['user_id'].unique())\n",
    "users_val_ranker.columns = ['user_id']\n",
    "\n",
    "train_users = data_train_lvl_1['user_id'].unique()\n",
    "users_val_ranker = uusers_val_ranker[users_val_ranker['user_id'].isin(train_users)]\n",
    "\n",
    "\n",
    "users_val_ranker['candidates'] = users_val_ranker['user_id'].apply(lambda x: recommender.get_own_recommendations(x, N=500))\n",
    "\n",
    "\n",
    "df = pd.DataFrame({'user_id':users_val_ranker.user_id.values.repeat(len(users_lvl_2.candidates[0])),\n",
    "                 'item_id':np.concatenate(users_lvl_2.candidates.values).astype('int64')})"
   ]
  },
  {
   "cell_type": "code",
   "execution_count": 33,
   "metadata": {},
   "outputs": [
    {
     "data": {
      "text/plain": [
       "0.0303153488372093"
      ]
     },
     "execution_count": 33,
     "metadata": {},
     "output_type": "execute_result"
    }
   ],
   "source": [
    "targets_val_ranker = ddata_train_ranker.drop_duplicates(['user_id', 'item_id'])[['user_id', 'item_id']].copy()\n",
    "targets_val_ranker['target'] = 1\n",
    "targets_val_ranker = df.merge(targets_val_ranker, on=['user_id', 'item_id'], how='left')\n",
    "targets_val_ranker['target'].fillna(0, inplace= True)\n",
    "targets_val_ranker['target'].mean()"
   ]
  },
  {
   "cell_type": "code",
   "execution_count": 34,
   "metadata": {},
   "outputs": [],
   "source": [
    "item_features['brand'] = item_features['brand'].map({'National': 0, 'Private': 1})"
   ]
  },
  {
   "cell_type": "code",
   "execution_count": 35,
   "metadata": {},
   "outputs": [],
   "source": [
    "user_features['age_desc'] = user_features['age_desc'].map({'45-54': 45, '35-44': 35, '55-64': 55, '25-34': 25, '65+': 65, '19-24': 19})\n",
    "\n",
    "user_features['income_desc'] = user_features['income_desc'].map({\n",
    "    '50-74K': 50000, '35-49K': 35000, '75-99K': 75000, '25-34K': 25000, '15-24K': 15000, 'Under 15K': 0, \n",
    "    '125-149K': 125000, '100-124K': 100000, '150-174K': 150000, '250K+': 250000, '175-199K': 175, \n",
    "    '200-249K': 200000})\n",
    "\n",
    "user_features['kid_category_desc'] = user_features['kid_category_desc'].map({'None/Unknown': 0, '3+': 3})\n",
    "\n",
    "\n",
    "user_features['homeowner_desc'] = user_features['homeowner_desc'].map({'Homeowner': 1, 'Unknown': 0, 'Renter': 0, \n",
    "                                    'Probable Owner': 0.75, 'Probable Renter': 0.25})\n",
    "\n",
    "user_features['household_size_desc'] = user_features['household_size_desc'].map({'5+': 5})"
   ]
  },
  {
   "cell_type": "code",
   "execution_count": 36,
   "metadata": {},
   "outputs": [],
   "source": [
    "user_features = user_features.merge(right = user_features.merge(right=data, on='user_id', how='left') \\\n",
    "                                    .groupby(by='user_id')['sales_value'].mean() \\\n",
    "                                    .reset_index().rename(columns={'sales_value': 'average_purchase'}),\n",
    "                                    on='user_id', how='left')"
   ]
  },
  {
   "cell_type": "code",
   "execution_count": 37,
   "metadata": {},
   "outputs": [],
   "source": [
    "targets_val_ranker = targets_val_ranker.merge(item_features, on='item_id', how='left')\n",
    "targets_val_ranker = targets_val_ranker.merge(user_features, on='user_id', how='left')"
   ]
  },
  {
   "cell_type": "code",
   "execution_count": 38,
   "metadata": {},
   "outputs": [],
   "source": [
    "X_train = targets_val_ranker.drop(['user_id', 'item_id', 'target'], axis=1)\n",
    "y_train = targets_val_ranker['target']"
   ]
  },
  {
   "cell_type": "code",
   "execution_count": 39,
   "metadata": {},
   "outputs": [
    {
     "data": {
      "text/html": [
       "<div>\n",
       "<style scoped>\n",
       "    .dataframe tbody tr th:only-of-type {\n",
       "        vertical-align: middle;\n",
       "    }\n",
       "\n",
       "    .dataframe tbody tr th {\n",
       "        vertical-align: top;\n",
       "    }\n",
       "\n",
       "    .dataframe thead th {\n",
       "        text-align: right;\n",
       "    }\n",
       "</style>\n",
       "<table border=\"1\" class=\"dataframe\">\n",
       "  <thead>\n",
       "    <tr style=\"text-align: right;\">\n",
       "      <th></th>\n",
       "      <th>manufacturer</th>\n",
       "      <th>department</th>\n",
       "      <th>brand</th>\n",
       "      <th>commodity_desc</th>\n",
       "      <th>sub_commodity_desc</th>\n",
       "      <th>curr_size_of_product</th>\n",
       "      <th>age_desc</th>\n",
       "      <th>marital_status_code</th>\n",
       "      <th>income_desc</th>\n",
       "      <th>homeowner_desc</th>\n",
       "      <th>hh_comp_desc</th>\n",
       "      <th>household_size_desc</th>\n",
       "      <th>kid_category_desc</th>\n",
       "      <th>average_purchase</th>\n",
       "    </tr>\n",
       "  </thead>\n",
       "  <tbody>\n",
       "    <tr>\n",
       "      <th>0</th>\n",
       "      <td>69</td>\n",
       "      <td>DELI</td>\n",
       "      <td>1</td>\n",
       "      <td>SANDWICHES</td>\n",
       "      <td>SANDWICHES - (COLD)</td>\n",
       "      <td></td>\n",
       "      <td>45.0</td>\n",
       "      <td>U</td>\n",
       "      <td>50000.0</td>\n",
       "      <td>0.0</td>\n",
       "      <td>Unknown</td>\n",
       "      <td>NaN</td>\n",
       "      <td>0.0</td>\n",
       "      <td>2.891039</td>\n",
       "    </tr>\n",
       "    <tr>\n",
       "      <th>1</th>\n",
       "      <td>2468</td>\n",
       "      <td>GROCERY</td>\n",
       "      <td>0</td>\n",
       "      <td>DOMESTIC WINE</td>\n",
       "      <td>VALUE GLASS WINE</td>\n",
       "      <td>4 LTR</td>\n",
       "      <td>45.0</td>\n",
       "      <td>U</td>\n",
       "      <td>50000.0</td>\n",
       "      <td>0.0</td>\n",
       "      <td>Unknown</td>\n",
       "      <td>NaN</td>\n",
       "      <td>0.0</td>\n",
       "      <td>2.891039</td>\n",
       "    </tr>\n",
       "    <tr>\n",
       "      <th>2</th>\n",
       "      <td>69</td>\n",
       "      <td>DRUG GM</td>\n",
       "      <td>1</td>\n",
       "      <td>DIAPERS &amp; DISPOSABLES</td>\n",
       "      <td>BABY DIAPERS</td>\n",
       "      <td>14 CT</td>\n",
       "      <td>45.0</td>\n",
       "      <td>U</td>\n",
       "      <td>50000.0</td>\n",
       "      <td>0.0</td>\n",
       "      <td>Unknown</td>\n",
       "      <td>NaN</td>\n",
       "      <td>0.0</td>\n",
       "      <td>2.891039</td>\n",
       "    </tr>\n",
       "    <tr>\n",
       "      <th>3</th>\n",
       "      <td>1213</td>\n",
       "      <td>DRUG GM</td>\n",
       "      <td>0</td>\n",
       "      <td>ORAL HYGIENE PRODUCTS</td>\n",
       "      <td>WHITENING SYSTEMS</td>\n",
       "      <td>3 OZ</td>\n",
       "      <td>45.0</td>\n",
       "      <td>U</td>\n",
       "      <td>50000.0</td>\n",
       "      <td>0.0</td>\n",
       "      <td>Unknown</td>\n",
       "      <td>NaN</td>\n",
       "      <td>0.0</td>\n",
       "      <td>2.891039</td>\n",
       "    </tr>\n",
       "    <tr>\n",
       "      <th>4</th>\n",
       "      <td>69</td>\n",
       "      <td>DRUG GM</td>\n",
       "      <td>1</td>\n",
       "      <td>DIAPERS &amp; DISPOSABLES</td>\n",
       "      <td>BABY DIAPERS</td>\n",
       "      <td>13 CT</td>\n",
       "      <td>45.0</td>\n",
       "      <td>U</td>\n",
       "      <td>50000.0</td>\n",
       "      <td>0.0</td>\n",
       "      <td>Unknown</td>\n",
       "      <td>NaN</td>\n",
       "      <td>0.0</td>\n",
       "      <td>2.891039</td>\n",
       "    </tr>\n",
       "    <tr>\n",
       "      <th>...</th>\n",
       "      <td>...</td>\n",
       "      <td>...</td>\n",
       "      <td>...</td>\n",
       "      <td>...</td>\n",
       "      <td>...</td>\n",
       "      <td>...</td>\n",
       "      <td>...</td>\n",
       "      <td>...</td>\n",
       "      <td>...</td>\n",
       "      <td>...</td>\n",
       "      <td>...</td>\n",
       "      <td>...</td>\n",
       "      <td>...</td>\n",
       "      <td>...</td>\n",
       "    </tr>\n",
       "    <tr>\n",
       "      <th>1074995</th>\n",
       "      <td>1126</td>\n",
       "      <td>GROCERY</td>\n",
       "      <td>0</td>\n",
       "      <td>CHEESE</td>\n",
       "      <td>STRING CHEESE</td>\n",
       "      <td>12 OZ</td>\n",
       "      <td>45.0</td>\n",
       "      <td>A</td>\n",
       "      <td>0.0</td>\n",
       "      <td>0.0</td>\n",
       "      <td>Single Male</td>\n",
       "      <td>NaN</td>\n",
       "      <td>0.0</td>\n",
       "      <td>2.682708</td>\n",
       "    </tr>\n",
       "    <tr>\n",
       "      <th>1074996</th>\n",
       "      <td>1646</td>\n",
       "      <td>PRODUCE</td>\n",
       "      <td>0</td>\n",
       "      <td>SALAD MIX</td>\n",
       "      <td>KITS</td>\n",
       "      <td>10 OZ</td>\n",
       "      <td>45.0</td>\n",
       "      <td>A</td>\n",
       "      <td>0.0</td>\n",
       "      <td>0.0</td>\n",
       "      <td>Single Male</td>\n",
       "      <td>NaN</td>\n",
       "      <td>0.0</td>\n",
       "      <td>2.682708</td>\n",
       "    </tr>\n",
       "    <tr>\n",
       "      <th>1074997</th>\n",
       "      <td>35</td>\n",
       "      <td>DRUG GM</td>\n",
       "      <td>0</td>\n",
       "      <td>MAGAZINE</td>\n",
       "      <td>TABLOIDS-MAGAZINE</td>\n",
       "      <td></td>\n",
       "      <td>45.0</td>\n",
       "      <td>A</td>\n",
       "      <td>0.0</td>\n",
       "      <td>0.0</td>\n",
       "      <td>Single Male</td>\n",
       "      <td>NaN</td>\n",
       "      <td>0.0</td>\n",
       "      <td>2.682708</td>\n",
       "    </tr>\n",
       "    <tr>\n",
       "      <th>1074998</th>\n",
       "      <td>69</td>\n",
       "      <td>GROCERY</td>\n",
       "      <td>1</td>\n",
       "      <td>CHEESE</td>\n",
       "      <td>SHREDDED CHEESE</td>\n",
       "      <td>6 OZ</td>\n",
       "      <td>45.0</td>\n",
       "      <td>A</td>\n",
       "      <td>0.0</td>\n",
       "      <td>0.0</td>\n",
       "      <td>Single Male</td>\n",
       "      <td>NaN</td>\n",
       "      <td>0.0</td>\n",
       "      <td>2.682708</td>\n",
       "    </tr>\n",
       "    <tr>\n",
       "      <th>1074999</th>\n",
       "      <td>1194</td>\n",
       "      <td>GROCERY</td>\n",
       "      <td>0</td>\n",
       "      <td>REFRGRATD JUICES/DRNKS</td>\n",
       "      <td>DAIRY CASE 100% PURE JUICE - O</td>\n",
       "      <td>64 OZ</td>\n",
       "      <td>45.0</td>\n",
       "      <td>A</td>\n",
       "      <td>0.0</td>\n",
       "      <td>0.0</td>\n",
       "      <td>Single Male</td>\n",
       "      <td>NaN</td>\n",
       "      <td>0.0</td>\n",
       "      <td>2.682708</td>\n",
       "    </tr>\n",
       "  </tbody>\n",
       "</table>\n",
       "<p>1075000 rows × 14 columns</p>\n",
       "</div>"
      ],
      "text/plain": [
       "         manufacturer department  brand          commodity_desc  \\\n",
       "0                  69       DELI      1              SANDWICHES   \n",
       "1                2468    GROCERY      0           DOMESTIC WINE   \n",
       "2                  69    DRUG GM      1   DIAPERS & DISPOSABLES   \n",
       "3                1213    DRUG GM      0   ORAL HYGIENE PRODUCTS   \n",
       "4                  69    DRUG GM      1   DIAPERS & DISPOSABLES   \n",
       "...               ...        ...    ...                     ...   \n",
       "1074995          1126    GROCERY      0                  CHEESE   \n",
       "1074996          1646    PRODUCE      0               SALAD MIX   \n",
       "1074997            35    DRUG GM      0                MAGAZINE   \n",
       "1074998            69    GROCERY      1                  CHEESE   \n",
       "1074999          1194    GROCERY      0  REFRGRATD JUICES/DRNKS   \n",
       "\n",
       "                     sub_commodity_desc curr_size_of_product  age_desc  \\\n",
       "0                   SANDWICHES - (COLD)                           45.0   \n",
       "1                      VALUE GLASS WINE                4 LTR      45.0   \n",
       "2                          BABY DIAPERS                14 CT      45.0   \n",
       "3                     WHITENING SYSTEMS                 3 OZ      45.0   \n",
       "4                          BABY DIAPERS                13 CT      45.0   \n",
       "...                                 ...                  ...       ...   \n",
       "1074995                   STRING CHEESE                12 OZ      45.0   \n",
       "1074996                            KITS                10 OZ      45.0   \n",
       "1074997               TABLOIDS-MAGAZINE                           45.0   \n",
       "1074998                 SHREDDED CHEESE                 6 OZ      45.0   \n",
       "1074999  DAIRY CASE 100% PURE JUICE - O                64 OZ      45.0   \n",
       "\n",
       "        marital_status_code  income_desc  homeowner_desc hh_comp_desc  \\\n",
       "0                         U      50000.0             0.0      Unknown   \n",
       "1                         U      50000.0             0.0      Unknown   \n",
       "2                         U      50000.0             0.0      Unknown   \n",
       "3                         U      50000.0             0.0      Unknown   \n",
       "4                         U      50000.0             0.0      Unknown   \n",
       "...                     ...          ...             ...          ...   \n",
       "1074995                   A          0.0             0.0  Single Male   \n",
       "1074996                   A          0.0             0.0  Single Male   \n",
       "1074997                   A          0.0             0.0  Single Male   \n",
       "1074998                   A          0.0             0.0  Single Male   \n",
       "1074999                   A          0.0             0.0  Single Male   \n",
       "\n",
       "         household_size_desc  kid_category_desc  average_purchase  \n",
       "0                        NaN                0.0          2.891039  \n",
       "1                        NaN                0.0          2.891039  \n",
       "2                        NaN                0.0          2.891039  \n",
       "3                        NaN                0.0          2.891039  \n",
       "4                        NaN                0.0          2.891039  \n",
       "...                      ...                ...               ...  \n",
       "1074995                  NaN                0.0          2.682708  \n",
       "1074996                  NaN                0.0          2.682708  \n",
       "1074997                  NaN                0.0          2.682708  \n",
       "1074998                  NaN                0.0          2.682708  \n",
       "1074999                  NaN                0.0          2.682708  \n",
       "\n",
       "[1075000 rows x 14 columns]"
      ]
     },
     "execution_count": 39,
     "metadata": {},
     "output_type": "execute_result"
    }
   ],
   "source": [
    "X_train"
   ]
  },
  {
   "cell_type": "code",
   "execution_count": 40,
   "metadata": {},
   "outputs": [],
   "source": [
    "cat_feats = ['department', 'commodity_desc', 'sub_commodity_desc', 'curr_size_of_product', 'marital_status_code', 'hh_comp_desc']\n",
    "X_train[cat_feats] = X_train[cat_feats].astype('category')"
   ]
  },
  {
   "cell_type": "code",
   "execution_count": 41,
   "metadata": {},
   "outputs": [
    {
     "name": "stderr",
     "output_type": "stream",
     "text": [
      "C:\\Users\\Admin\\anaconda3\\lib\\site-packages\\lightgbm\\basic.py:1098: UserWarning: categorical_column in param dict is overridden.\n",
      "  warnings.warn('{} in param dict is overridden.'.format(cat_alias))\n"
     ]
    },
    {
     "name": "stdout",
     "output_type": "stream",
     "text": [
      "[LightGBM] [Warning] Accuracy may be bad since you didn't explicitly set num_leaves OR 2^max_depth > num_leaves. (num_leaves=31).\n"
     ]
    },
    {
     "data": {
      "text/plain": [
       "LGBMClassifier(categorical_column=['department', 'commodity_desc',\n",
       "                                   'sub_commodity_desc', 'curr_size_of_product',\n",
       "                                   'marital_status_code', 'hh_comp_desc'],\n",
       "               max_depth=7, objective='binary')"
      ]
     },
     "execution_count": 41,
     "metadata": {},
     "output_type": "execute_result"
    }
   ],
   "source": [
    "lgb = LGBMClassifier(objective='binary', max_depth=7, categorical_column=cat_feats)\n",
    "lgb.fit(X_train, y_train)"
   ]
  },
  {
   "cell_type": "code",
   "execution_count": 42,
   "metadata": {},
   "outputs": [],
   "source": [
    "train_preds = lgb.predict_proba(X_train)[:, 1]"
   ]
  },
  {
   "cell_type": "code",
   "execution_count": 43,
   "metadata": {},
   "outputs": [],
   "source": [
    "result_val_ranker = data_val_ranker.groupby('user_id')['item_id'].unique() \\\n",
    "            .reset_index().rename(columns={'item_id': 'actual'})"
   ]
  },
  {
   "cell_type": "code",
   "execution_count": 44,
   "metadata": {},
   "outputs": [
    {
     "data": {
      "text/html": [
       "<div>\n",
       "<style scoped>\n",
       "    .dataframe tbody tr th:only-of-type {\n",
       "        vertical-align: middle;\n",
       "    }\n",
       "\n",
       "    .dataframe tbody tr th {\n",
       "        vertical-align: top;\n",
       "    }\n",
       "\n",
       "    .dataframe thead th {\n",
       "        text-align: right;\n",
       "    }\n",
       "</style>\n",
       "<table border=\"1\" class=\"dataframe\">\n",
       "  <thead>\n",
       "    <tr style=\"text-align: right;\">\n",
       "      <th></th>\n",
       "      <th>user_id</th>\n",
       "      <th>actual</th>\n",
       "    </tr>\n",
       "  </thead>\n",
       "  <tbody>\n",
       "    <tr>\n",
       "      <th>0</th>\n",
       "      <td>1</td>\n",
       "      <td>[821867, 834484, 856942, 865456, 889248, 90795...</td>\n",
       "    </tr>\n",
       "    <tr>\n",
       "      <th>1</th>\n",
       "      <td>3</td>\n",
       "      <td>[835476, 851057, 872021, 878302, 879948, 90963...</td>\n",
       "    </tr>\n",
       "  </tbody>\n",
       "</table>\n",
       "</div>"
      ],
      "text/plain": [
       "   user_id                                             actual\n",
       "0        1  [821867, 834484, 856942, 865456, 889248, 90795...\n",
       "1        3  [835476, 851057, 872021, 878302, 879948, 90963..."
      ]
     },
     "execution_count": 44,
     "metadata": {},
     "output_type": "execute_result"
    }
   ],
   "source": [
    "result_val_ranker.head(2)"
   ]
  },
  {
   "cell_type": "code",
   "execution_count": 45,
   "metadata": {},
   "outputs": [],
   "source": [
    "temp_result = targets_val_ranker.loc[:, ['user_id', 'item_id']]"
   ]
  },
  {
   "cell_type": "code",
   "execution_count": 46,
   "metadata": {},
   "outputs": [],
   "source": [
    "candidats = temp_result.groupby('user_id')['item_id'].apply(list)\n",
    "result_val_ranker = result_val_ranker.merge(candidats, on=['user_id'], how='left').rename(columns={'item_id': 'own_recs'})"
   ]
  },
  {
   "cell_type": "code",
   "execution_count": 47,
   "metadata": {},
   "outputs": [],
   "source": [
    "temp_result['train_preds'] = train_preds\n",
    "temp_result.sort_values('train_preds', ascending=False, inplace=True)\n",
    "\n",
    "top_candidats = temp_result.groupby(by='user_id')['item_id'].apply(list)\n",
    "result_val_ranker = result_val_ranker.merge(right=top_candidats, on=['user_id'], how='left')\n",
    "result_val_ranker = result_val_ranker.rename(columns={'item_id': 'lgbm_recs'})"
   ]
  },
  {
   "cell_type": "code",
   "execution_count": 48,
   "metadata": {},
   "outputs": [
    {
     "data": {
      "text/html": [
       "<div>\n",
       "<style scoped>\n",
       "    .dataframe tbody tr th:only-of-type {\n",
       "        vertical-align: middle;\n",
       "    }\n",
       "\n",
       "    .dataframe tbody tr th {\n",
       "        vertical-align: top;\n",
       "    }\n",
       "\n",
       "    .dataframe thead th {\n",
       "        text-align: right;\n",
       "    }\n",
       "</style>\n",
       "<table border=\"1\" class=\"dataframe\">\n",
       "  <thead>\n",
       "    <tr style=\"text-align: right;\">\n",
       "      <th></th>\n",
       "      <th>user_id</th>\n",
       "      <th>actual</th>\n",
       "      <th>own_recs</th>\n",
       "      <th>lgbm_recs</th>\n",
       "    </tr>\n",
       "  </thead>\n",
       "  <tbody>\n",
       "    <tr>\n",
       "      <th>0</th>\n",
       "      <td>1</td>\n",
       "      <td>[821867, 834484, 856942, 865456, 889248, 90795...</td>\n",
       "      <td>[856942, 9297615, 5577022, 877391, 9655212, 88...</td>\n",
       "      <td>[1082185, 8293439, 9655212, 1068719, 1106523, ...</td>\n",
       "    </tr>\n",
       "    <tr>\n",
       "      <th>1</th>\n",
       "      <td>3</td>\n",
       "      <td>[835476, 851057, 872021, 878302, 879948, 90963...</td>\n",
       "      <td>NaN</td>\n",
       "      <td>NaN</td>\n",
       "    </tr>\n",
       "    <tr>\n",
       "      <th>2</th>\n",
       "      <td>6</td>\n",
       "      <td>[920308, 926804, 946489, 1006718, 1017061, 107...</td>\n",
       "      <td>[13003092, 972416, 995598, 923600, 1138596, 10...</td>\n",
       "      <td>[1082185, 1082185, 845208, 900802, 1029743, 10...</td>\n",
       "    </tr>\n",
       "  </tbody>\n",
       "</table>\n",
       "</div>"
      ],
      "text/plain": [
       "   user_id                                             actual  \\\n",
       "0        1  [821867, 834484, 856942, 865456, 889248, 90795...   \n",
       "1        3  [835476, 851057, 872021, 878302, 879948, 90963...   \n",
       "2        6  [920308, 926804, 946489, 1006718, 1017061, 107...   \n",
       "\n",
       "                                            own_recs  \\\n",
       "0  [856942, 9297615, 5577022, 877391, 9655212, 88...   \n",
       "1                                                NaN   \n",
       "2  [13003092, 972416, 995598, 923600, 1138596, 10...   \n",
       "\n",
       "                                           lgbm_recs  \n",
       "0  [1082185, 8293439, 9655212, 1068719, 1106523, ...  \n",
       "1                                                NaN  \n",
       "2  [1082185, 1082185, 845208, 900802, 1029743, 10...  "
      ]
     },
     "execution_count": 48,
     "metadata": {},
     "output_type": "execute_result"
    }
   ],
   "source": [
    "result_val_ranker.head(3)"
   ]
  },
  {
   "cell_type": "code",
   "execution_count": 49,
   "metadata": {},
   "outputs": [
    {
     "data": {
      "text/html": [
       "<div>\n",
       "<style scoped>\n",
       "    .dataframe tbody tr th:only-of-type {\n",
       "        vertical-align: middle;\n",
       "    }\n",
       "\n",
       "    .dataframe tbody tr th {\n",
       "        vertical-align: top;\n",
       "    }\n",
       "\n",
       "    .dataframe thead th {\n",
       "        text-align: right;\n",
       "    }\n",
       "</style>\n",
       "<table border=\"1\" class=\"dataframe\">\n",
       "  <thead>\n",
       "    <tr style=\"text-align: right;\">\n",
       "      <th></th>\n",
       "      <th>user_id</th>\n",
       "      <th>actual</th>\n",
       "      <th>own_recs</th>\n",
       "      <th>lgbm_recs</th>\n",
       "    </tr>\n",
       "  </thead>\n",
       "  <tbody>\n",
       "    <tr>\n",
       "      <th>1</th>\n",
       "      <td>3</td>\n",
       "      <td>[835476, 851057, 872021, 878302, 879948, 90963...</td>\n",
       "      <td>NaN</td>\n",
       "      <td>NaN</td>\n",
       "    </tr>\n",
       "    <tr>\n",
       "      <th>37</th>\n",
       "      <td>48</td>\n",
       "      <td>[857000, 890533, 960718, 971585, 979178, 99606...</td>\n",
       "      <td>NaN</td>\n",
       "      <td>NaN</td>\n",
       "    </tr>\n",
       "    <tr>\n",
       "      <th>46</th>\n",
       "      <td>60</td>\n",
       "      <td>[15512234, 17105530]</td>\n",
       "      <td>NaN</td>\n",
       "      <td>NaN</td>\n",
       "    </tr>\n",
       "    <tr>\n",
       "      <th>56</th>\n",
       "      <td>73</td>\n",
       "      <td>[1069003, 1071939, 1110764, 1130581, 829291, 8...</td>\n",
       "      <td>NaN</td>\n",
       "      <td>NaN</td>\n",
       "    </tr>\n",
       "    <tr>\n",
       "      <th>72</th>\n",
       "      <td>89</td>\n",
       "      <td>[878910, 956995, 1055863, 9879409, 12781501]</td>\n",
       "      <td>NaN</td>\n",
       "      <td>NaN</td>\n",
       "    </tr>\n",
       "    <tr>\n",
       "      <th>...</th>\n",
       "      <td>...</td>\n",
       "      <td>...</td>\n",
       "      <td>...</td>\n",
       "      <td>...</td>\n",
       "    </tr>\n",
       "    <tr>\n",
       "      <th>1941</th>\n",
       "      <td>2373</td>\n",
       "      <td>[853262, 859075, 873203, 883404, 908940, 10297...</td>\n",
       "      <td>NaN</td>\n",
       "      <td>NaN</td>\n",
       "    </tr>\n",
       "    <tr>\n",
       "      <th>1950</th>\n",
       "      <td>2383</td>\n",
       "      <td>[973016, 10198378, 15512234, 17105530, 948953]</td>\n",
       "      <td>NaN</td>\n",
       "      <td>NaN</td>\n",
       "    </tr>\n",
       "    <tr>\n",
       "      <th>1961</th>\n",
       "      <td>2399</td>\n",
       "      <td>[820582, 835098, 938700, 947858, 1013321, 1030...</td>\n",
       "      <td>NaN</td>\n",
       "      <td>NaN</td>\n",
       "    </tr>\n",
       "    <tr>\n",
       "      <th>2029</th>\n",
       "      <td>2487</td>\n",
       "      <td>[862407, 1099089, 1135834, 5570383, 10344585, ...</td>\n",
       "      <td>NaN</td>\n",
       "      <td>NaN</td>\n",
       "    </tr>\n",
       "    <tr>\n",
       "      <th>2035</th>\n",
       "      <td>2495</td>\n",
       "      <td>[1096603]</td>\n",
       "      <td>NaN</td>\n",
       "      <td>NaN</td>\n",
       "    </tr>\n",
       "  </tbody>\n",
       "</table>\n",
       "<p>126 rows × 4 columns</p>\n",
       "</div>"
      ],
      "text/plain": [
       "      user_id                                             actual own_recs  \\\n",
       "1           3  [835476, 851057, 872021, 878302, 879948, 90963...      NaN   \n",
       "37         48  [857000, 890533, 960718, 971585, 979178, 99606...      NaN   \n",
       "46         60                               [15512234, 17105530]      NaN   \n",
       "56         73  [1069003, 1071939, 1110764, 1130581, 829291, 8...      NaN   \n",
       "72         89       [878910, 956995, 1055863, 9879409, 12781501]      NaN   \n",
       "...       ...                                                ...      ...   \n",
       "1941     2373  [853262, 859075, 873203, 883404, 908940, 10297...      NaN   \n",
       "1950     2383     [973016, 10198378, 15512234, 17105530, 948953]      NaN   \n",
       "1961     2399  [820582, 835098, 938700, 947858, 1013321, 1030...      NaN   \n",
       "2029     2487  [862407, 1099089, 1135834, 5570383, 10344585, ...      NaN   \n",
       "2035     2495                                          [1096603]      NaN   \n",
       "\n",
       "     lgbm_recs  \n",
       "1          NaN  \n",
       "37         NaN  \n",
       "46         NaN  \n",
       "56         NaN  \n",
       "72         NaN  \n",
       "...        ...  \n",
       "1941       NaN  \n",
       "1950       NaN  \n",
       "1961       NaN  \n",
       "2029       NaN  \n",
       "2035       NaN  \n",
       "\n",
       "[126 rows x 4 columns]"
      ]
     },
     "execution_count": 49,
     "metadata": {},
     "output_type": "execute_result"
    }
   ],
   "source": [
    "result_val_ranker.loc[result_val_ranker['lgbm_recs'].isnull()]"
   ]
  },
  {
   "cell_type": "code",
   "execution_count": 50,
   "metadata": {},
   "outputs": [],
   "source": [
    "result_val_ranker = result_val_ranker.drop(np.where(result_val_ranker['lgbm_recs'].isnull())[0], axis=0)"
   ]
  },
  {
   "cell_type": "code",
   "execution_count": 51,
   "metadata": {},
   "outputs": [
    {
     "data": {
      "text/html": [
       "<div>\n",
       "<style scoped>\n",
       "    .dataframe tbody tr th:only-of-type {\n",
       "        vertical-align: middle;\n",
       "    }\n",
       "\n",
       "    .dataframe tbody tr th {\n",
       "        vertical-align: top;\n",
       "    }\n",
       "\n",
       "    .dataframe thead th {\n",
       "        text-align: right;\n",
       "    }\n",
       "</style>\n",
       "<table border=\"1\" class=\"dataframe\">\n",
       "  <thead>\n",
       "    <tr style=\"text-align: right;\">\n",
       "      <th></th>\n",
       "      <th>user_id</th>\n",
       "      <th>actual</th>\n",
       "      <th>own_recs</th>\n",
       "      <th>lgbm_recs</th>\n",
       "    </tr>\n",
       "  </thead>\n",
       "  <tbody>\n",
       "    <tr>\n",
       "      <th>0</th>\n",
       "      <td>1</td>\n",
       "      <td>[821867, 834484, 856942, 865456, 889248, 90795...</td>\n",
       "      <td>[856942, 9297615, 5577022, 877391, 9655212, 88...</td>\n",
       "      <td>[1082185, 8293439, 9655212, 1068719, 1106523, ...</td>\n",
       "    </tr>\n",
       "    <tr>\n",
       "      <th>2</th>\n",
       "      <td>6</td>\n",
       "      <td>[920308, 926804, 946489, 1006718, 1017061, 107...</td>\n",
       "      <td>[13003092, 972416, 995598, 923600, 1138596, 10...</td>\n",
       "      <td>[1082185, 1082185, 845208, 900802, 1029743, 10...</td>\n",
       "    </tr>\n",
       "    <tr>\n",
       "      <th>3</th>\n",
       "      <td>7</td>\n",
       "      <td>[840386, 889774, 898068, 909714, 929067, 95347...</td>\n",
       "      <td>[896666, 998519, 894360, 7147142, 9338009, 939...</td>\n",
       "      <td>[1082185, 1126899, 1106523, 1029743, 1029743, ...</td>\n",
       "    </tr>\n",
       "    <tr>\n",
       "      <th>4</th>\n",
       "      <td>8</td>\n",
       "      <td>[835098, 872137, 910439, 924610, 992977, 10412...</td>\n",
       "      <td>[12808385, 981660, 939860, 7410201, 5577022, 6...</td>\n",
       "      <td>[1082185, 1126899, 1106523, 1029743, 1070820, ...</td>\n",
       "    </tr>\n",
       "    <tr>\n",
       "      <th>5</th>\n",
       "      <td>9</td>\n",
       "      <td>[864335, 990865, 1029743, 9297474, 10457112, 8...</td>\n",
       "      <td>[872146, 918046, 9655676, 985622, 1056005, 801...</td>\n",
       "      <td>[1082185, 1070820, 1126899, 1106523, 1029743, ...</td>\n",
       "    </tr>\n",
       "    <tr>\n",
       "      <th>...</th>\n",
       "      <td>...</td>\n",
       "      <td>...</td>\n",
       "      <td>...</td>\n",
       "      <td>...</td>\n",
       "    </tr>\n",
       "    <tr>\n",
       "      <th>2034</th>\n",
       "      <td>2494</td>\n",
       "      <td>[859075, 1053598, 1071939, 5568729, 9553191, 1...</td>\n",
       "      <td>[1117219, 7024847, 1115800, 1003524, 8090508, ...</td>\n",
       "      <td>[1082185, 1070820, 1106523, 1029743, 1029743, ...</td>\n",
       "    </tr>\n",
       "    <tr>\n",
       "      <th>2036</th>\n",
       "      <td>2496</td>\n",
       "      <td>[6534178]</td>\n",
       "      <td>[872826, 983665, 991546, 1134296, 7441210, 974...</td>\n",
       "      <td>[1082185, 1126899, 1070820, 1029743, 1106523, ...</td>\n",
       "    </tr>\n",
       "    <tr>\n",
       "      <th>2037</th>\n",
       "      <td>2497</td>\n",
       "      <td>[1016709, 9835695, 1132298, 16809501, 845294, ...</td>\n",
       "      <td>[870515, 1117219, 1102207, 1057168, 1135834, 1...</td>\n",
       "      <td>[1082185, 1082185, 870515, 1117514, 900802, 10...</td>\n",
       "    </tr>\n",
       "    <tr>\n",
       "      <th>2038</th>\n",
       "      <td>2499</td>\n",
       "      <td>[867188, 877580, 902396, 914190, 951590, 95813...</td>\n",
       "      <td>[7168055, 1128395, 6904613, 5570048, 889989, 8...</td>\n",
       "      <td>[1082185, 1044078, 1044078, 1070820, 1029743, ...</td>\n",
       "    </tr>\n",
       "    <tr>\n",
       "      <th>2039</th>\n",
       "      <td>2500</td>\n",
       "      <td>[852182, 856345, 923746, 948670, 1018007, 1044...</td>\n",
       "      <td>[1063739, 12262832, 1086061, 879393, 1065538, ...</td>\n",
       "      <td>[1082185, 1126899, 1029743, 1070820, 1126899, ...</td>\n",
       "    </tr>\n",
       "  </tbody>\n",
       "</table>\n",
       "<p>1914 rows × 4 columns</p>\n",
       "</div>"
      ],
      "text/plain": [
       "      user_id                                             actual  \\\n",
       "0           1  [821867, 834484, 856942, 865456, 889248, 90795...   \n",
       "2           6  [920308, 926804, 946489, 1006718, 1017061, 107...   \n",
       "3           7  [840386, 889774, 898068, 909714, 929067, 95347...   \n",
       "4           8  [835098, 872137, 910439, 924610, 992977, 10412...   \n",
       "5           9  [864335, 990865, 1029743, 9297474, 10457112, 8...   \n",
       "...       ...                                                ...   \n",
       "2034     2494  [859075, 1053598, 1071939, 5568729, 9553191, 1...   \n",
       "2036     2496                                          [6534178]   \n",
       "2037     2497  [1016709, 9835695, 1132298, 16809501, 845294, ...   \n",
       "2038     2499  [867188, 877580, 902396, 914190, 951590, 95813...   \n",
       "2039     2500  [852182, 856345, 923746, 948670, 1018007, 1044...   \n",
       "\n",
       "                                               own_recs  \\\n",
       "0     [856942, 9297615, 5577022, 877391, 9655212, 88...   \n",
       "2     [13003092, 972416, 995598, 923600, 1138596, 10...   \n",
       "3     [896666, 998519, 894360, 7147142, 9338009, 939...   \n",
       "4     [12808385, 981660, 939860, 7410201, 5577022, 6...   \n",
       "5     [872146, 918046, 9655676, 985622, 1056005, 801...   \n",
       "...                                                 ...   \n",
       "2034  [1117219, 7024847, 1115800, 1003524, 8090508, ...   \n",
       "2036  [872826, 983665, 991546, 1134296, 7441210, 974...   \n",
       "2037  [870515, 1117219, 1102207, 1057168, 1135834, 1...   \n",
       "2038  [7168055, 1128395, 6904613, 5570048, 889989, 8...   \n",
       "2039  [1063739, 12262832, 1086061, 879393, 1065538, ...   \n",
       "\n",
       "                                              lgbm_recs  \n",
       "0     [1082185, 8293439, 9655212, 1068719, 1106523, ...  \n",
       "2     [1082185, 1082185, 845208, 900802, 1029743, 10...  \n",
       "3     [1082185, 1126899, 1106523, 1029743, 1029743, ...  \n",
       "4     [1082185, 1126899, 1106523, 1029743, 1070820, ...  \n",
       "5     [1082185, 1070820, 1126899, 1106523, 1029743, ...  \n",
       "...                                                 ...  \n",
       "2034  [1082185, 1070820, 1106523, 1029743, 1029743, ...  \n",
       "2036  [1082185, 1126899, 1070820, 1029743, 1106523, ...  \n",
       "2037  [1082185, 1082185, 870515, 1117514, 900802, 10...  \n",
       "2038  [1082185, 1044078, 1044078, 1070820, 1029743, ...  \n",
       "2039  [1082185, 1126899, 1029743, 1070820, 1126899, ...  \n",
       "\n",
       "[1914 rows x 4 columns]"
      ]
     },
     "execution_count": 51,
     "metadata": {},
     "output_type": "execute_result"
    }
   ],
   "source": [
    "result_val_ranker"
   ]
  },
  {
   "cell_type": "code",
   "execution_count": 52,
   "metadata": {},
   "outputs": [
    {
     "data": {
      "text/plain": [
       "0.16332288401253703"
      ]
     },
     "execution_count": 52,
     "metadata": {},
     "output_type": "execute_result"
    }
   ],
   "source": [
    "result_val_ranker.apply(lambda row: precision_at_k(row['lgbm_recs'], row['actual']), axis=1).mean()"
   ]
  },
  {
   "cell_type": "code",
   "execution_count": 53,
   "metadata": {},
   "outputs": [
    {
     "data": {
      "text/plain": [
       "1.0277951933124385"
      ]
     },
     "execution_count": 53,
     "metadata": {},
     "output_type": "execute_result"
    }
   ],
   "source": [
    "result_val_ranker.apply(lambda row: precision_at_k(row['own_recs'], row['own_recs']), axis=1).mean()"
   ]
  }
 ],
 "metadata": {
  "kernelspec": {
   "display_name": "Python 3 (ipykernel)",
   "language": "python",
   "name": "python3"
  },
  "language_info": {
   "codemirror_mode": {
    "name": "ipython",
    "version": 3
   },
   "file_extension": ".py",
   "mimetype": "text/x-python",
   "name": "python",
   "nbconvert_exporter": "python",
   "pygments_lexer": "ipython3",
   "version": "3.9.7"
  }
 },
 "nbformat": 4,
 "nbformat_minor": 2
}
